{
 "cells": [
  {
   "cell_type": "markdown",
   "id": "3e569aff-d678-4ce4-9ec2-6d3c1382e5cf",
   "metadata": {},
   "source": [
    "<h1>Omregning fra celcius til fahrenheit.</h1>"
   ]
  },
  {
   "cell_type": "code",
   "execution_count": 3,
   "id": "22b3f31b-7406-42d4-912b-5ac55aa93d7f",
   "metadata": {},
   "outputs": [
    {
     "name": "stdout",
     "output_type": "stream",
     "text": [
      "50.0\n"
     ]
    }
   ],
   "source": [
    "c = 10 # grader angitt i celcius\n",
    "f = c * 1.8 + 32\n",
    "print(f)"
   ]
  }
 ],
 "metadata": {
  "kernelspec": {
   "display_name": "Python [conda env:base] *",
   "language": "python",
   "name": "conda-base-py"
  },
  "language_info": {
   "codemirror_mode": {
    "name": "ipython",
    "version": 3
   },
   "file_extension": ".py",
   "mimetype": "text/x-python",
   "name": "python",
   "nbconvert_exporter": "python",
   "pygments_lexer": "ipython3",
   "version": "3.12.7"
  }
 },
 "nbformat": 4,
 "nbformat_minor": 5
}
